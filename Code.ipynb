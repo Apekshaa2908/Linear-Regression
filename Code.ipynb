{
 "cells": [
  {
   "cell_type": "code",
   "execution_count": 1,
   "id": "54e626a4",
   "metadata": {
    "scrolled": false
   },
   "outputs": [],
   "source": [
    "import pandas as pd\n",
    "import numpy as np\n",
    "import matplotlib.pyplot as plt\n",
    "import seaborn as sns\n",
    "from sklearn import preprocessing\n",
    "from sklearn.linear_model import LinearRegression\n",
    "from sklearn.metrics import mean_squared_error\n",
    "import warnings\n",
    "warnings.filterwarnings('ignore')\n",
    "from sklearn.preprocessing import OneHotEncoder"
   ]
  },
  {
   "cell_type": "code",
   "execution_count": 2,
   "id": "ff819e5e",
   "metadata": {},
   "outputs": [],
   "source": [
    "df = pd.read_csv('Training_Data_Set.csv')"
   ]
  },
  {
   "cell_type": "code",
   "execution_count": 3,
   "id": "ca2d4a3b",
   "metadata": {
    "scrolled": false
   },
   "outputs": [
    {
     "data": {
      "text/html": [
       "<div>\n",
       "<style scoped>\n",
       "    .dataframe tbody tr th:only-of-type {\n",
       "        vertical-align: middle;\n",
       "    }\n",
       "\n",
       "    .dataframe tbody tr th {\n",
       "        vertical-align: top;\n",
       "    }\n",
       "\n",
       "    .dataframe thead th {\n",
       "        text-align: right;\n",
       "    }\n",
       "</style>\n",
       "<table border=\"1\" class=\"dataframe\">\n",
       "  <thead>\n",
       "    <tr style=\"text-align: right;\">\n",
       "      <th></th>\n",
       "      <th>Id</th>\n",
       "      <th>Maker</th>\n",
       "      <th>model</th>\n",
       "      <th>Location</th>\n",
       "      <th>Distance</th>\n",
       "      <th>Owner Type</th>\n",
       "      <th>manufacture_year</th>\n",
       "      <th>Age of car</th>\n",
       "      <th>engine_displacement</th>\n",
       "      <th>engine_power</th>\n",
       "      <th>body_type</th>\n",
       "      <th>Vroom Audit Rating</th>\n",
       "      <th>transmission</th>\n",
       "      <th>door_count</th>\n",
       "      <th>seat_count</th>\n",
       "      <th>fuel_type</th>\n",
       "      <th>Price</th>\n",
       "    </tr>\n",
       "  </thead>\n",
       "  <tbody>\n",
       "    <tr>\n",
       "      <th>0</th>\n",
       "      <td>25001</td>\n",
       "      <td>skoda</td>\n",
       "      <td>octavia</td>\n",
       "      <td>Ahmedabad</td>\n",
       "      <td>NaN</td>\n",
       "      <td>Second</td>\n",
       "      <td>1964</td>\n",
       "      <td>55</td>\n",
       "      <td>1964</td>\n",
       "      <td>147.0</td>\n",
       "      <td>compact</td>\n",
       "      <td>8</td>\n",
       "      <td>man</td>\n",
       "      <td>None</td>\n",
       "      <td>None</td>\n",
       "      <td>petrol</td>\n",
       "      <td>543764.25</td>\n",
       "    </tr>\n",
       "    <tr>\n",
       "      <th>1</th>\n",
       "      <td>25002</td>\n",
       "      <td>fiat</td>\n",
       "      <td>panda</td>\n",
       "      <td>Ahmedabad</td>\n",
       "      <td>27750.0</td>\n",
       "      <td>Third</td>\n",
       "      <td>2012</td>\n",
       "      <td>7</td>\n",
       "      <td>1242</td>\n",
       "      <td>51.0</td>\n",
       "      <td>NaN</td>\n",
       "      <td>6</td>\n",
       "      <td>man</td>\n",
       "      <td>4</td>\n",
       "      <td>4</td>\n",
       "      <td>petrol</td>\n",
       "      <td>401819.25</td>\n",
       "    </tr>\n",
       "    <tr>\n",
       "      <th>2</th>\n",
       "      <td>25003</td>\n",
       "      <td>bmw</td>\n",
       "      <td>x1</td>\n",
       "      <td>Hyderabad</td>\n",
       "      <td>46000.0</td>\n",
       "      <td>Third</td>\n",
       "      <td>2014</td>\n",
       "      <td>5</td>\n",
       "      <td>1995</td>\n",
       "      <td>105.0</td>\n",
       "      <td>NaN</td>\n",
       "      <td>7</td>\n",
       "      <td>auto</td>\n",
       "      <td>4</td>\n",
       "      <td>5</td>\n",
       "      <td>diesel</td>\n",
       "      <td>2392855.50</td>\n",
       "    </tr>\n",
       "    <tr>\n",
       "      <th>3</th>\n",
       "      <td>25004</td>\n",
       "      <td>nissan</td>\n",
       "      <td>juke</td>\n",
       "      <td>Mumbai</td>\n",
       "      <td>43949.0</td>\n",
       "      <td>Third</td>\n",
       "      <td>2011</td>\n",
       "      <td>8</td>\n",
       "      <td>1618</td>\n",
       "      <td>140.0</td>\n",
       "      <td>NaN</td>\n",
       "      <td>7</td>\n",
       "      <td>man</td>\n",
       "      <td>4</td>\n",
       "      <td>5</td>\n",
       "      <td>petrol</td>\n",
       "      <td>958606.50</td>\n",
       "    </tr>\n",
       "    <tr>\n",
       "      <th>4</th>\n",
       "      <td>25005</td>\n",
       "      <td>bmw</td>\n",
       "      <td>x5</td>\n",
       "      <td>Jaipur</td>\n",
       "      <td>59524.0</td>\n",
       "      <td>Fourth &amp; Above</td>\n",
       "      <td>2012</td>\n",
       "      <td>7</td>\n",
       "      <td>2993</td>\n",
       "      <td>180.0</td>\n",
       "      <td>NaN</td>\n",
       "      <td>7</td>\n",
       "      <td>auto</td>\n",
       "      <td>4</td>\n",
       "      <td>5</td>\n",
       "      <td>diesel</td>\n",
       "      <td>3085561.50</td>\n",
       "    </tr>\n",
       "  </tbody>\n",
       "</table>\n",
       "</div>"
      ],
      "text/plain": [
       "      Id   Maker    model   Location  Distance       Owner Type  \\\n",
       "0  25001   skoda  octavia  Ahmedabad        NaN          Second   \n",
       "1  25002    fiat    panda  Ahmedabad    27750.0           Third   \n",
       "2  25003     bmw       x1  Hyderabad    46000.0           Third   \n",
       "3  25004  nissan     juke     Mumbai    43949.0           Third   \n",
       "4  25005     bmw       x5     Jaipur    59524.0  Fourth & Above   \n",
       "\n",
       "   manufacture_year  Age of car  engine_displacement  engine_power body_type  \\\n",
       "0              1964          55                 1964         147.0   compact   \n",
       "1              2012           7                 1242          51.0       NaN   \n",
       "2              2014           5                 1995         105.0       NaN   \n",
       "3              2011           8                 1618         140.0       NaN   \n",
       "4              2012           7                 2993         180.0       NaN   \n",
       "\n",
       "   Vroom Audit Rating transmission door_count seat_count fuel_type       Price  \n",
       "0                   8          man       None       None    petrol   543764.25  \n",
       "1                   6          man          4          4    petrol   401819.25  \n",
       "2                   7         auto          4          5    diesel  2392855.50  \n",
       "3                   7          man          4          5    petrol   958606.50  \n",
       "4                   7         auto          4          5    diesel  3085561.50  "
      ]
     },
     "execution_count": 3,
     "metadata": {},
     "output_type": "execute_result"
    }
   ],
   "source": [
    "df.head()"
   ]
  },
  {
   "cell_type": "code",
   "execution_count": 4,
   "id": "928ccc78",
   "metadata": {},
   "outputs": [
    {
     "name": "stdout",
     "output_type": "stream",
     "text": [
      "<class 'pandas.core.frame.DataFrame'>\n",
      "RangeIndex: 53515 entries, 0 to 53514\n",
      "Data columns (total 17 columns):\n",
      " #   Column               Non-Null Count  Dtype  \n",
      "---  ------               --------------  -----  \n",
      " 0   Id                   53515 non-null  int64  \n",
      " 1   Maker                53515 non-null  object \n",
      " 2   model                53515 non-null  object \n",
      " 3   Location             53515 non-null  object \n",
      " 4   Distance             52304 non-null  float64\n",
      " 5   Owner Type           53515 non-null  object \n",
      " 6   manufacture_year     53515 non-null  int64  \n",
      " 7   Age of car           53515 non-null  int64  \n",
      " 8   engine_displacement  53515 non-null  int64  \n",
      " 9   engine_power         52076 non-null  float64\n",
      " 10  body_type            4136 non-null   object \n",
      " 11  Vroom Audit Rating   53515 non-null  int64  \n",
      " 12  transmission         53515 non-null  object \n",
      " 13  door_count           53515 non-null  object \n",
      " 14  seat_count           53515 non-null  object \n",
      " 15  fuel_type            53515 non-null  object \n",
      " 16  Price                53515 non-null  float64\n",
      "dtypes: float64(3), int64(5), object(9)\n",
      "memory usage: 6.9+ MB\n"
     ]
    }
   ],
   "source": [
    "df.info()"
   ]
  },
  {
   "cell_type": "code",
   "execution_count": 5,
   "id": "2ec1f80e",
   "metadata": {},
   "outputs": [
    {
     "data": {
      "text/plain": [
       "Id                         0\n",
       "Maker                      0\n",
       "model                      0\n",
       "Location                   0\n",
       "Distance                1211\n",
       "Owner Type                 0\n",
       "manufacture_year           0\n",
       "Age of car                 0\n",
       "engine_displacement        0\n",
       "engine_power            1439\n",
       "body_type              49379\n",
       "Vroom Audit Rating         0\n",
       "transmission               0\n",
       "door_count                 0\n",
       "seat_count                 0\n",
       "fuel_type                  0\n",
       "Price                      0\n",
       "dtype: int64"
      ]
     },
     "execution_count": 5,
     "metadata": {},
     "output_type": "execute_result"
    }
   ],
   "source": [
    "df.isnull().sum()"
   ]
  },
  {
   "cell_type": "code",
   "execution_count": 6,
   "id": "164427cb",
   "metadata": {
    "scrolled": true
   },
   "outputs": [
    {
     "data": {
      "text/plain": [
       "Index(['Id', 'Maker', 'model', 'Location', 'Distance ', 'Owner Type',\n",
       "       'manufacture_year', 'Age of car', 'engine_displacement', 'engine_power',\n",
       "       'body_type', 'Vroom Audit Rating', 'transmission', 'door_count',\n",
       "       'seat_count', 'fuel_type', 'Price'],\n",
       "      dtype='object')"
      ]
     },
     "execution_count": 6,
     "metadata": {},
     "output_type": "execute_result"
    }
   ],
   "source": [
    "df.columns"
   ]
  },
  {
   "cell_type": "code",
   "execution_count": 7,
   "id": "051c1a7d",
   "metadata": {
    "scrolled": true
   },
   "outputs": [
    {
     "data": {
      "text/plain": [
       "0.02263"
      ]
     },
     "execution_count": 7,
     "metadata": {},
     "output_type": "execute_result"
    }
   ],
   "source": [
    "round( df['Distance '].isnull().sum()/len(df), 5)"
   ]
  },
  {
   "cell_type": "code",
   "execution_count": 8,
   "id": "47d223d7",
   "metadata": {},
   "outputs": [
    {
     "data": {
      "text/plain": [
       "0.02689"
      ]
     },
     "execution_count": 8,
     "metadata": {},
     "output_type": "execute_result"
    }
   ],
   "source": [
    "round( df['engine_power'].isnull().sum()/len(df), 5)"
   ]
  },
  {
   "cell_type": "code",
   "execution_count": 9,
   "id": "945a8c35",
   "metadata": {},
   "outputs": [
    {
     "data": {
      "text/plain": [
       "0.92271"
      ]
     },
     "execution_count": 9,
     "metadata": {},
     "output_type": "execute_result"
    }
   ],
   "source": [
    "round( df['body_type'].isnull().sum()/len(df), 5)"
   ]
  },
  {
   "cell_type": "code",
   "execution_count": 10,
   "id": "8fcf5ab7",
   "metadata": {},
   "outputs": [],
   "source": [
    "df.dropna(subset = ['Distance '],inplace=True)"
   ]
  },
  {
   "cell_type": "code",
   "execution_count": 11,
   "id": "255b07fe",
   "metadata": {},
   "outputs": [
    {
     "data": {
      "text/plain": [
       "0"
      ]
     },
     "execution_count": 11,
     "metadata": {},
     "output_type": "execute_result"
    }
   ],
   "source": [
    "df['Distance '].isnull().sum()"
   ]
  },
  {
   "cell_type": "code",
   "execution_count": 12,
   "id": "e4981940",
   "metadata": {},
   "outputs": [],
   "source": [
    "df.dropna(subset = ['engine_power'],inplace=True)"
   ]
  },
  {
   "cell_type": "code",
   "execution_count": 13,
   "id": "cd3fe289",
   "metadata": {},
   "outputs": [
    {
     "data": {
      "text/plain": [
       "0"
      ]
     },
     "execution_count": 13,
     "metadata": {},
     "output_type": "execute_result"
    }
   ],
   "source": [
    "df['engine_power'].isnull().sum()"
   ]
  },
  {
   "cell_type": "code",
   "execution_count": 14,
   "id": "ba3069ac",
   "metadata": {},
   "outputs": [
    {
     "data": {
      "text/plain": [
       "Id                         0\n",
       "Maker                      0\n",
       "model                      0\n",
       "Location                   0\n",
       "Distance                   0\n",
       "Owner Type                 0\n",
       "manufacture_year           0\n",
       "Age of car                 0\n",
       "engine_displacement        0\n",
       "engine_power               0\n",
       "body_type              48430\n",
       "Vroom Audit Rating         0\n",
       "transmission               0\n",
       "door_count                 0\n",
       "seat_count                 0\n",
       "fuel_type                  0\n",
       "Price                      0\n",
       "dtype: int64"
      ]
     },
     "execution_count": 14,
     "metadata": {},
     "output_type": "execute_result"
    }
   ],
   "source": [
    "df.isnull().sum()"
   ]
  },
  {
   "cell_type": "code",
   "execution_count": 15,
   "id": "4a355ec9",
   "metadata": {},
   "outputs": [],
   "source": [
    "df1 = df.copy()"
   ]
  },
  {
   "cell_type": "code",
   "execution_count": 16,
   "id": "f171a295",
   "metadata": {},
   "outputs": [
    {
     "data": {
      "text/html": [
       "<div>\n",
       "<style scoped>\n",
       "    .dataframe tbody tr th:only-of-type {\n",
       "        vertical-align: middle;\n",
       "    }\n",
       "\n",
       "    .dataframe tbody tr th {\n",
       "        vertical-align: top;\n",
       "    }\n",
       "\n",
       "    .dataframe thead th {\n",
       "        text-align: right;\n",
       "    }\n",
       "</style>\n",
       "<table border=\"1\" class=\"dataframe\">\n",
       "  <thead>\n",
       "    <tr style=\"text-align: right;\">\n",
       "      <th></th>\n",
       "      <th>Id</th>\n",
       "      <th>Maker</th>\n",
       "      <th>model</th>\n",
       "      <th>Location</th>\n",
       "      <th>Distance</th>\n",
       "      <th>Owner Type</th>\n",
       "      <th>manufacture_year</th>\n",
       "      <th>Age of car</th>\n",
       "      <th>engine_displacement</th>\n",
       "      <th>engine_power</th>\n",
       "      <th>body_type</th>\n",
       "      <th>Vroom Audit Rating</th>\n",
       "      <th>transmission</th>\n",
       "      <th>door_count</th>\n",
       "      <th>seat_count</th>\n",
       "      <th>fuel_type</th>\n",
       "      <th>Price</th>\n",
       "    </tr>\n",
       "  </thead>\n",
       "  <tbody>\n",
       "    <tr>\n",
       "      <th>1</th>\n",
       "      <td>25002</td>\n",
       "      <td>fiat</td>\n",
       "      <td>panda</td>\n",
       "      <td>Ahmedabad</td>\n",
       "      <td>27750.0</td>\n",
       "      <td>Third</td>\n",
       "      <td>2012</td>\n",
       "      <td>7</td>\n",
       "      <td>1242</td>\n",
       "      <td>51.0</td>\n",
       "      <td>NaN</td>\n",
       "      <td>6</td>\n",
       "      <td>man</td>\n",
       "      <td>4</td>\n",
       "      <td>4</td>\n",
       "      <td>petrol</td>\n",
       "      <td>401819.25</td>\n",
       "    </tr>\n",
       "    <tr>\n",
       "      <th>2</th>\n",
       "      <td>25003</td>\n",
       "      <td>bmw</td>\n",
       "      <td>x1</td>\n",
       "      <td>Hyderabad</td>\n",
       "      <td>46000.0</td>\n",
       "      <td>Third</td>\n",
       "      <td>2014</td>\n",
       "      <td>5</td>\n",
       "      <td>1995</td>\n",
       "      <td>105.0</td>\n",
       "      <td>NaN</td>\n",
       "      <td>7</td>\n",
       "      <td>auto</td>\n",
       "      <td>4</td>\n",
       "      <td>5</td>\n",
       "      <td>diesel</td>\n",
       "      <td>2392855.50</td>\n",
       "    </tr>\n",
       "    <tr>\n",
       "      <th>3</th>\n",
       "      <td>25004</td>\n",
       "      <td>nissan</td>\n",
       "      <td>juke</td>\n",
       "      <td>Mumbai</td>\n",
       "      <td>43949.0</td>\n",
       "      <td>Third</td>\n",
       "      <td>2011</td>\n",
       "      <td>8</td>\n",
       "      <td>1618</td>\n",
       "      <td>140.0</td>\n",
       "      <td>NaN</td>\n",
       "      <td>7</td>\n",
       "      <td>man</td>\n",
       "      <td>4</td>\n",
       "      <td>5</td>\n",
       "      <td>petrol</td>\n",
       "      <td>958606.50</td>\n",
       "    </tr>\n",
       "    <tr>\n",
       "      <th>4</th>\n",
       "      <td>25005</td>\n",
       "      <td>bmw</td>\n",
       "      <td>x5</td>\n",
       "      <td>Jaipur</td>\n",
       "      <td>59524.0</td>\n",
       "      <td>Fourth &amp; Above</td>\n",
       "      <td>2012</td>\n",
       "      <td>7</td>\n",
       "      <td>2993</td>\n",
       "      <td>180.0</td>\n",
       "      <td>NaN</td>\n",
       "      <td>7</td>\n",
       "      <td>auto</td>\n",
       "      <td>4</td>\n",
       "      <td>5</td>\n",
       "      <td>diesel</td>\n",
       "      <td>3085561.50</td>\n",
       "    </tr>\n",
       "    <tr>\n",
       "      <th>5</th>\n",
       "      <td>25006</td>\n",
       "      <td>skoda</td>\n",
       "      <td>octavia</td>\n",
       "      <td>Chennai</td>\n",
       "      <td>12015.0</td>\n",
       "      <td>First</td>\n",
       "      <td>2015</td>\n",
       "      <td>4</td>\n",
       "      <td>1968</td>\n",
       "      <td>110.0</td>\n",
       "      <td>NaN</td>\n",
       "      <td>4</td>\n",
       "      <td>man</td>\n",
       "      <td>4</td>\n",
       "      <td>5</td>\n",
       "      <td>diesel</td>\n",
       "      <td>1543728.75</td>\n",
       "    </tr>\n",
       "  </tbody>\n",
       "</table>\n",
       "</div>"
      ],
      "text/plain": [
       "      Id   Maker    model   Location  Distance       Owner Type  \\\n",
       "1  25002    fiat    panda  Ahmedabad    27750.0           Third   \n",
       "2  25003     bmw       x1  Hyderabad    46000.0           Third   \n",
       "3  25004  nissan     juke     Mumbai    43949.0           Third   \n",
       "4  25005     bmw       x5     Jaipur    59524.0  Fourth & Above   \n",
       "5  25006   skoda  octavia    Chennai    12015.0           First   \n",
       "\n",
       "   manufacture_year  Age of car  engine_displacement  engine_power body_type  \\\n",
       "1              2012           7                 1242          51.0       NaN   \n",
       "2              2014           5                 1995         105.0       NaN   \n",
       "3              2011           8                 1618         140.0       NaN   \n",
       "4              2012           7                 2993         180.0       NaN   \n",
       "5              2015           4                 1968         110.0       NaN   \n",
       "\n",
       "   Vroom Audit Rating transmission door_count seat_count fuel_type       Price  \n",
       "1                   6          man          4          4    petrol   401819.25  \n",
       "2                   7         auto          4          5    diesel  2392855.50  \n",
       "3                   7          man          4          5    petrol   958606.50  \n",
       "4                   7         auto          4          5    diesel  3085561.50  \n",
       "5                   4          man          4          5    diesel  1543728.75  "
      ]
     },
     "execution_count": 16,
     "metadata": {},
     "output_type": "execute_result"
    }
   ],
   "source": [
    "df1.head()"
   ]
  },
  {
   "cell_type": "code",
   "execution_count": 17,
   "id": "dc554fd6",
   "metadata": {},
   "outputs": [],
   "source": [
    "label_encoder = preprocessing.LabelEncoder()"
   ]
  },
  {
   "cell_type": "code",
   "execution_count": 18,
   "id": "d2233ecb",
   "metadata": {},
   "outputs": [],
   "source": [
    "df1['Maker'] = label_encoder.fit_transform(df['Maker'])"
   ]
  },
  {
   "cell_type": "code",
   "execution_count": 19,
   "id": "754a6924",
   "metadata": {},
   "outputs": [],
   "source": [
    "df1['model'] = label_encoder.fit_transform(df['model'])"
   ]
  },
  {
   "cell_type": "code",
   "execution_count": 20,
   "id": "0152791c",
   "metadata": {},
   "outputs": [],
   "source": [
    "df1['Location'] = label_encoder.fit_transform(df['Location'])"
   ]
  },
  {
   "cell_type": "code",
   "execution_count": 21,
   "id": "d6c24e41",
   "metadata": {},
   "outputs": [],
   "source": [
    "df1['Owner Type'] = label_encoder.fit_transform(df['Owner Type'])"
   ]
  },
  {
   "cell_type": "code",
   "execution_count": 22,
   "id": "95d48a3a",
   "metadata": {},
   "outputs": [],
   "source": [
    "df1['transmission'] = label_encoder.fit_transform(df['transmission'])"
   ]
  },
  {
   "cell_type": "code",
   "execution_count": 23,
   "id": "8b0fdb5c",
   "metadata": {},
   "outputs": [],
   "source": [
    "df1['fuel_type'] = label_encoder.fit_transform(df['fuel_type'])"
   ]
  },
  {
   "cell_type": "code",
   "execution_count": 24,
   "id": "de4f7849",
   "metadata": {},
   "outputs": [],
   "source": [
    "df1.rename(columns = {'Distance ':'Distance','Owner Type':'Owner_Type','Age of car':'Age_of_car','Vroom Audit Rating':'Vroom_Audit_Rating'}, inplace = True)"
   ]
  },
  {
   "cell_type": "code",
   "execution_count": 25,
   "id": "e6596e9b",
   "metadata": {
    "scrolled": false
   },
   "outputs": [
    {
     "data": {
      "text/plain": [
       "Index(['Id', 'Maker', 'model', 'Location', 'Distance', 'Owner_Type',\n",
       "       'manufacture_year', 'Age_of_car', 'engine_displacement', 'engine_power',\n",
       "       'body_type', 'Vroom_Audit_Rating', 'transmission', 'door_count',\n",
       "       'seat_count', 'fuel_type', 'Price'],\n",
       "      dtype='object')"
      ]
     },
     "execution_count": 25,
     "metadata": {},
     "output_type": "execute_result"
    }
   ],
   "source": [
    "df1.columns"
   ]
  },
  {
   "cell_type": "code",
   "execution_count": 26,
   "id": "51c7536f",
   "metadata": {},
   "outputs": [
    {
     "data": {
      "text/plain": [
       "<function matplotlib.pyplot.show(close=None, block=None)>"
      ]
     },
     "execution_count": 26,
     "metadata": {},
     "output_type": "execute_result"
    },
    {
     "data": {
      "image/png": "[encoded data removed]",
      "text/plain": [
       "<Figure size 1500x1000 with 2 Axes>"
      ]
     },
     "metadata": {},
     "output_type": "display_data"
    }
   ],
   "source": [
    "plt.figure(figsize=(15,10))\n",
    "sns.heatmap(df1.corr(),annot =True, cmap='YlGnBu')\n",
    "plt.show"
   ]
  },
  {
   "cell_type": "code",
   "execution_count": 27,
   "id": "d2239c63",
   "metadata": {},
   "outputs": [],
   "source": [
    "X = df1[['Id','Maker','model','Location','Distance','Owner_Type','manufacture_year','Age_of_car','engine_displacement','engine_power','Vroom_Audit_Rating','transmission','fuel_type']]\n",
    "y = df[['Price']]"
   ]
  },
  {
   "cell_type": "code",
   "execution_count": 28,
   "id": "30d571da",
   "metadata": {},
   "outputs": [],
   "source": [
    "model = LinearRegression()"
   ]
  },
  {
   "cell_type": "code",
   "execution_count": 29,
   "id": "5a1349a8",
   "metadata": {},
   "outputs": [
    {
     "data": {
      "text/html": [
       "<style>#sk-container-id-1 {color: black;background-color: white;}#sk-container-id-1 pre{padding: 0;}#sk-container-id-1 div.sk-toggleable {background-color: white;}#sk-container-id-1 label.sk-toggleable__label {cursor: pointer;display: block;width: 100%;margin-bottom: 0;padding: 0.3em;box-sizing: border-box;text-align: center;}#sk-container-id-1 label.sk-toggleable__label-arrow:before {content: \"▸\";float: left;margin-right: 0.25em;color: #696969;}#sk-container-id-1 label.sk-toggleable__label-arrow:hover:before {color: black;}#sk-container-id-1 div.sk-estimator:hover label.sk-toggleable__label-arrow:before {color: black;}#sk-container-id-1 div.sk-toggleable__content {max-height: 0;max-width: 0;overflow: hidden;text-align: left;background-color: #f0f8ff;}#sk-container-id-1 div.sk-toggleable__content pre {margin: 0.2em;color: black;border-radius: 0.25em;background-color: #f0f8ff;}#sk-container-id-1 input.sk-toggleable__control:checked~div.sk-toggleable__content {max-height: 200px;max-width: 100%;overflow: auto;}#sk-container-id-1 input.sk-toggleable__control:checked~label.sk-toggleable__label-arrow:before {content: \"▾\";}#sk-container-id-1 div.sk-estimator input.sk-toggleable__control:checked~label.sk-toggleable__label {background-color: #d4ebff;}#sk-container-id-1 div.sk-label input.sk-toggleable__control:checked~label.sk-toggleable__label {background-color: #d4ebff;}#sk-container-id-1 input.sk-hidden--visually {border: 0;clip: rect(1px 1px 1px 1px);clip: rect(1px, 1px, 1px, 1px);height: 1px;margin: -1px;overflow: hidden;padding: 0;position: absolute;width: 1px;}#sk-container-id-1 div.sk-estimator {font-family: monospace;background-color: #f0f8ff;border: 1px dotted black;border-radius: 0.25em;box-sizing: border-box;margin-bottom: 0.5em;}#sk-container-id-1 div.sk-estimator:hover {background-color: #d4ebff;}#sk-container-id-1 div.sk-parallel-item::after {content: \"\";width: 100%;border-bottom: 1px solid gray;flex-grow: 1;}#sk-container-id-1 div.sk-label:hover label.sk-toggleable__label {background-color: #d4ebff;}#sk-container-id-1 div.sk-serial::before {content: \"\";position: absolute;border-left: 1px solid gray;box-sizing: border-box;top: 0;bottom: 0;left: 50%;z-index: 0;}#sk-container-id-1 div.sk-serial {display: flex;flex-direction: column;align-items: center;background-color: white;padding-right: 0.2em;padding-left: 0.2em;position: relative;}#sk-container-id-1 div.sk-item {position: relative;z-index: 1;}#sk-container-id-1 div.sk-parallel {display: flex;align-items: stretch;justify-content: center;background-color: white;position: relative;}#sk-container-id-1 div.sk-item::before, #sk-container-id-1 div.sk-parallel-item::before {content: \"\";position: absolute;border-left: 1px solid gray;box-sizing: border-box;top: 0;bottom: 0;left: 50%;z-index: -1;}#sk-container-id-1 div.sk-parallel-item {display: flex;flex-direction: column;z-index: 1;position: relative;background-color: white;}#sk-container-id-1 div.sk-parallel-item:first-child::after {align-self: flex-end;width: 50%;}#sk-container-id-1 div.sk-parallel-item:last-child::after {align-self: flex-start;width: 50%;}#sk-container-id-1 div.sk-parallel-item:only-child::after {width: 0;}#sk-container-id-1 div.sk-dashed-wrapped {border: 1px dashed gray;margin: 0 0.4em 0.5em 0.4em;box-sizing: border-box;padding-bottom: 0.4em;background-color: white;}#sk-container-id-1 div.sk-label label {font-family: monospace;font-weight: bold;display: inline-block;line-height: 1.2em;}#sk-container-id-1 div.sk-label-container {text-align: center;}#sk-container-id-1 div.sk-container {/* jupyter's `normalize.less` sets `[hidden] { display: none; }` but bootstrap.min.css set `[hidden] { display: none !important; }` so we also need the `!important` here to be able to override the default hidden behavior on the sphinx rendered scikit-learn.org. See: https://github.com/scikit-learn/scikit-learn/issues/21755 */display: inline-block !important;position: relative;}#sk-container-id-1 div.sk-text-repr-fallback {display: none;}</style><div id=\"sk-container-id-1\" class=\"sk-top-container\"><div class=\"sk-text-repr-fallback\"><pre>LinearRegression()</pre><b>In a Jupyter environment, please rerun this cell to show the HTML representation or trust the notebook. <br />On GitHub, the HTML representation is unable to render, please try loading this page with nbviewer.org.</b></div><div class=\"sk-container\" hidden><div class=\"sk-item\"><div class=\"sk-estimator sk-toggleable\"><input class=\"sk-toggleable__control sk-hidden--visually\" id=\"sk-estimator-id-1\" type=\"checkbox\" checked><label for=\"sk-estimator-id-1\" class=\"sk-toggleable__label sk-toggleable__label-arrow\">LinearRegression</label><div class=\"sk-toggleable__content\"><pre>LinearRegression()</pre></div></div></div></div></div>"
      ],
      "text/plain": [
       "LinearRegression()"
      ]
     },
     "execution_count": 29,
     "metadata": {},
     "output_type": "execute_result"
    }
   ],
   "source": [
    "model.fit(X,y)"
   ]
  },
  {
   "cell_type": "code",
   "execution_count": 30,
   "id": "0493f6d7",
   "metadata": {},
   "outputs": [],
   "source": [
    "y_pre = pd.DataFrame(model.predict(X))"
   ]
  },
  {
   "cell_type": "code",
   "execution_count": 33,
   "id": "32f90e79",
   "metadata": {},
   "outputs": [],
   "source": [
    "mse = mean_squared_error(y,y_pre)"
   ]
  },
  {
   "cell_type": "code",
   "execution_count": 34,
   "id": "3b1900a0",
   "metadata": {},
   "outputs": [
    {
     "data": {
      "text/plain": [
       "466947.6611567845"
      ]
     },
     "execution_count": 34,
     "metadata": {},
     "output_type": "execute_result"
    }
   ],
   "source": [
    "np.sqrt(mse)"
   ]
  },
  {
   "cell_type": "code",
   "execution_count": 35,
   "id": "b268a578",
   "metadata": {},
   "outputs": [],
   "source": [
    "test = pd.read_csv('Test_Data_Set.csv')"
   ]
  },
  {
   "cell_type": "code",
   "execution_count": 36,
   "id": "1e49fe43",
   "metadata": {},
   "outputs": [
    {
     "data": {
      "text/html": [
       "<div>\n",
       "<style scoped>\n",
       "    .dataframe tbody tr th:only-of-type {\n",
       "        vertical-align: middle;\n",
       "    }\n",
       "\n",
       "    .dataframe tbody tr th {\n",
       "        vertical-align: top;\n",
       "    }\n",
       "\n",
       "    .dataframe thead th {\n",
       "        text-align: right;\n",
       "    }\n",
       "</style>\n",
       "<table border=\"1\" class=\"dataframe\">\n",
       "  <thead>\n",
       "    <tr style=\"text-align: right;\">\n",
       "      <th></th>\n",
       "      <th>Id</th>\n",
       "      <th>Maker</th>\n",
       "      <th>model</th>\n",
       "      <th>Location</th>\n",
       "      <th>Distance</th>\n",
       "      <th>Owner Type</th>\n",
       "      <th>manufacture_year</th>\n",
       "      <th>Age of car</th>\n",
       "      <th>engine_displacement</th>\n",
       "      <th>engine_power</th>\n",
       "      <th>body_type</th>\n",
       "      <th>Vroom Audit Rating</th>\n",
       "      <th>transmission</th>\n",
       "      <th>door_count</th>\n",
       "      <th>seat_count</th>\n",
       "      <th>fuel_type</th>\n",
       "    </tr>\n",
       "  </thead>\n",
       "  <tbody>\n",
       "    <tr>\n",
       "      <th>0</th>\n",
       "      <td>11001</td>\n",
       "      <td>skoda</td>\n",
       "      <td>octavia</td>\n",
       "      <td>Mumbai</td>\n",
       "      <td>150000.0</td>\n",
       "      <td>First</td>\n",
       "      <td>2007</td>\n",
       "      <td>12</td>\n",
       "      <td>1595</td>\n",
       "      <td>75.0</td>\n",
       "      <td>NaN</td>\n",
       "      <td>5</td>\n",
       "      <td>man</td>\n",
       "      <td>4</td>\n",
       "      <td>5</td>\n",
       "      <td>petrol</td>\n",
       "    </tr>\n",
       "    <tr>\n",
       "      <th>1</th>\n",
       "      <td>11002</td>\n",
       "      <td>skoda</td>\n",
       "      <td>rapid</td>\n",
       "      <td>Coimbatore</td>\n",
       "      <td>29376.0</td>\n",
       "      <td>Third</td>\n",
       "      <td>2014</td>\n",
       "      <td>5</td>\n",
       "      <td>1598</td>\n",
       "      <td>77.0</td>\n",
       "      <td>NaN</td>\n",
       "      <td>4</td>\n",
       "      <td>man</td>\n",
       "      <td>4</td>\n",
       "      <td>5</td>\n",
       "      <td>diesel</td>\n",
       "    </tr>\n",
       "    <tr>\n",
       "      <th>2</th>\n",
       "      <td>11003</td>\n",
       "      <td>skoda</td>\n",
       "      <td>octavia</td>\n",
       "      <td>Coimbatore</td>\n",
       "      <td>30563.0</td>\n",
       "      <td>Second</td>\n",
       "      <td>2014</td>\n",
       "      <td>5</td>\n",
       "      <td>1968</td>\n",
       "      <td>110.0</td>\n",
       "      <td>NaN</td>\n",
       "      <td>5</td>\n",
       "      <td>man</td>\n",
       "      <td>5</td>\n",
       "      <td>5</td>\n",
       "      <td>diesel</td>\n",
       "    </tr>\n",
       "    <tr>\n",
       "      <th>3</th>\n",
       "      <td>11004</td>\n",
       "      <td>audi</td>\n",
       "      <td>q3</td>\n",
       "      <td>Delhi</td>\n",
       "      <td>8650.0</td>\n",
       "      <td>Fourth &amp; Above</td>\n",
       "      <td>2015</td>\n",
       "      <td>4</td>\n",
       "      <td>1968</td>\n",
       "      <td>110.0</td>\n",
       "      <td>NaN</td>\n",
       "      <td>8</td>\n",
       "      <td>auto</td>\n",
       "      <td>4</td>\n",
       "      <td>5</td>\n",
       "      <td>diesel</td>\n",
       "    </tr>\n",
       "    <tr>\n",
       "      <th>4</th>\n",
       "      <td>11005</td>\n",
       "      <td>audi</td>\n",
       "      <td>tt</td>\n",
       "      <td>Chennai</td>\n",
       "      <td>6400.0</td>\n",
       "      <td>Third</td>\n",
       "      <td>2015</td>\n",
       "      <td>4</td>\n",
       "      <td>1984</td>\n",
       "      <td>169.0</td>\n",
       "      <td>NaN</td>\n",
       "      <td>4</td>\n",
       "      <td>auto</td>\n",
       "      <td>2</td>\n",
       "      <td>None</td>\n",
       "      <td>petrol</td>\n",
       "    </tr>\n",
       "  </tbody>\n",
       "</table>\n",
       "</div>"
      ],
      "text/plain": [
       "      Id  Maker    model    Location  Distance       Owner Type  \\\n",
       "0  11001  skoda  octavia      Mumbai   150000.0           First   \n",
       "1  11002  skoda    rapid  Coimbatore    29376.0           Third   \n",
       "2  11003  skoda  octavia  Coimbatore    30563.0          Second   \n",
       "3  11004   audi       q3       Delhi     8650.0  Fourth & Above   \n",
       "4  11005   audi       tt     Chennai     6400.0           Third   \n",
       "\n",
       "   manufacture_year  Age of car  engine_displacement  engine_power body_type  \\\n",
       "0              2007          12                 1595          75.0       NaN   \n",
       "1              2014           5                 1598          77.0       NaN   \n",
       "2              2014           5                 1968         110.0       NaN   \n",
       "3              2015           4                 1968         110.0       NaN   \n",
       "4              2015           4                 1984         169.0       NaN   \n",
       "\n",
       "   Vroom Audit Rating transmission door_count seat_count fuel_type  \n",
       "0                   5          man          4          5    petrol  \n",
       "1                   4          man          4          5    diesel  \n",
       "2                   5          man          5          5    diesel  \n",
       "3                   8         auto          4          5    diesel  \n",
       "4                   4         auto          2       None    petrol  "
      ]
     },
     "execution_count": 36,
     "metadata": {},
     "output_type": "execute_result"
    }
   ],
   "source": [
    "test.head()"
   ]
  },
  {
   "cell_type": "code",
   "execution_count": 37,
   "id": "767951df",
   "metadata": {},
   "outputs": [],
   "source": [
    "test['Maker'] = label_encoder.fit_transform(test['Maker'])\n",
    "test['model'] = label_encoder.fit_transform(test['model'])\n",
    "test['Location'] = label_encoder.fit_transform(test['Location'])\n",
    "test['Owner Type'] = label_encoder.fit_transform(test['Owner Type'])\n",
    "test['transmission'] = label_encoder.fit_transform(test['transmission'])\n",
    "test['fuel_type'] = label_encoder.fit_transform(test['fuel_type'])"
   ]
  },
  {
   "cell_type": "code",
   "execution_count": 38,
   "id": "ecd1c1e1",
   "metadata": {
    "scrolled": true
   },
   "outputs": [
    {
     "data": {
      "text/html": [
       "<div>\n",
       "<style scoped>\n",
       "    .dataframe tbody tr th:only-of-type {\n",
       "        vertical-align: middle;\n",
       "    }\n",
       "\n",
       "    .dataframe tbody tr th {\n",
       "        vertical-align: top;\n",
       "    }\n",
       "\n",
       "    .dataframe thead th {\n",
       "        text-align: right;\n",
       "    }\n",
       "</style>\n",
       "<table border=\"1\" class=\"dataframe\">\n",
       "  <thead>\n",
       "    <tr style=\"text-align: right;\">\n",
       "      <th></th>\n",
       "      <th>Id</th>\n",
       "      <th>Maker</th>\n",
       "      <th>model</th>\n",
       "      <th>Location</th>\n",
       "      <th>Distance</th>\n",
       "      <th>Owner Type</th>\n",
       "      <th>manufacture_year</th>\n",
       "      <th>Age of car</th>\n",
       "      <th>engine_displacement</th>\n",
       "      <th>engine_power</th>\n",
       "      <th>body_type</th>\n",
       "      <th>Vroom Audit Rating</th>\n",
       "      <th>transmission</th>\n",
       "      <th>door_count</th>\n",
       "      <th>seat_count</th>\n",
       "      <th>fuel_type</th>\n",
       "    </tr>\n",
       "  </thead>\n",
       "  <tbody>\n",
       "    <tr>\n",
       "      <th>0</th>\n",
       "      <td>11001</td>\n",
       "      <td>6</td>\n",
       "      <td>8</td>\n",
       "      <td>9</td>\n",
       "      <td>150000.0</td>\n",
       "      <td>0</td>\n",
       "      <td>2007</td>\n",
       "      <td>12</td>\n",
       "      <td>1595</td>\n",
       "      <td>75.0</td>\n",
       "      <td>NaN</td>\n",
       "      <td>5</td>\n",
       "      <td>1</td>\n",
       "      <td>4</td>\n",
       "      <td>5</td>\n",
       "      <td>1</td>\n",
       "    </tr>\n",
       "    <tr>\n",
       "      <th>1</th>\n",
       "      <td>11002</td>\n",
       "      <td>6</td>\n",
       "      <td>14</td>\n",
       "      <td>3</td>\n",
       "      <td>29376.0</td>\n",
       "      <td>3</td>\n",
       "      <td>2014</td>\n",
       "      <td>5</td>\n",
       "      <td>1598</td>\n",
       "      <td>77.0</td>\n",
       "      <td>NaN</td>\n",
       "      <td>4</td>\n",
       "      <td>1</td>\n",
       "      <td>4</td>\n",
       "      <td>5</td>\n",
       "      <td>0</td>\n",
       "    </tr>\n",
       "    <tr>\n",
       "      <th>2</th>\n",
       "      <td>11003</td>\n",
       "      <td>6</td>\n",
       "      <td>8</td>\n",
       "      <td>3</td>\n",
       "      <td>30563.0</td>\n",
       "      <td>2</td>\n",
       "      <td>2014</td>\n",
       "      <td>5</td>\n",
       "      <td>1968</td>\n",
       "      <td>110.0</td>\n",
       "      <td>NaN</td>\n",
       "      <td>5</td>\n",
       "      <td>1</td>\n",
       "      <td>5</td>\n",
       "      <td>5</td>\n",
       "      <td>0</td>\n",
       "    </tr>\n",
       "    <tr>\n",
       "      <th>3</th>\n",
       "      <td>11004</td>\n",
       "      <td>0</td>\n",
       "      <td>10</td>\n",
       "      <td>4</td>\n",
       "      <td>8650.0</td>\n",
       "      <td>1</td>\n",
       "      <td>2015</td>\n",
       "      <td>4</td>\n",
       "      <td>1968</td>\n",
       "      <td>110.0</td>\n",
       "      <td>NaN</td>\n",
       "      <td>8</td>\n",
       "      <td>0</td>\n",
       "      <td>4</td>\n",
       "      <td>5</td>\n",
       "      <td>0</td>\n",
       "    </tr>\n",
       "    <tr>\n",
       "      <th>4</th>\n",
       "      <td>11005</td>\n",
       "      <td>0</td>\n",
       "      <td>17</td>\n",
       "      <td>2</td>\n",
       "      <td>6400.0</td>\n",
       "      <td>3</td>\n",
       "      <td>2015</td>\n",
       "      <td>4</td>\n",
       "      <td>1984</td>\n",
       "      <td>169.0</td>\n",
       "      <td>NaN</td>\n",
       "      <td>4</td>\n",
       "      <td>0</td>\n",
       "      <td>2</td>\n",
       "      <td>None</td>\n",
       "      <td>1</td>\n",
       "    </tr>\n",
       "  </tbody>\n",
       "</table>\n",
       "</div>"
      ],
      "text/plain": [
       "      Id  Maker  model  Location  Distance   Owner Type  manufacture_year  \\\n",
       "0  11001      6      8         9   150000.0           0              2007   \n",
       "1  11002      6     14         3    29376.0           3              2014   \n",
       "2  11003      6      8         3    30563.0           2              2014   \n",
       "3  11004      0     10         4     8650.0           1              2015   \n",
       "4  11005      0     17         2     6400.0           3              2015   \n",
       "\n",
       "   Age of car  engine_displacement  engine_power body_type  \\\n",
       "0          12                 1595          75.0       NaN   \n",
       "1           5                 1598          77.0       NaN   \n",
       "2           5                 1968         110.0       NaN   \n",
       "3           4                 1968         110.0       NaN   \n",
       "4           4                 1984         169.0       NaN   \n",
       "\n",
       "   Vroom Audit Rating  transmission door_count seat_count  fuel_type  \n",
       "0                   5             1          4          5          1  \n",
       "1                   4             1          4          5          0  \n",
       "2                   5             1          5          5          0  \n",
       "3                   8             0          4          5          0  \n",
       "4                   4             0          2       None          1  "
      ]
     },
     "execution_count": 38,
     "metadata": {},
     "output_type": "execute_result"
    }
   ],
   "source": [
    "test.head()"
   ]
  },
  {
   "cell_type": "code",
   "execution_count": 39,
   "id": "60be4ec9",
   "metadata": {},
   "outputs": [],
   "source": [
    "test.rename(columns = {'Distance ':'Distance','Owner Type':'Owner_Type',\n",
    "                       'Age of car':'Age_of_car','Vroom Audit Rating':'Vroom_Audit_Rating'}, inplace = True)"
   ]
  },
  {
   "cell_type": "code",
   "execution_count": 40,
   "id": "2703f4ff",
   "metadata": {},
   "outputs": [],
   "source": [
    "X_test = test[['Id','Maker','model','Location','Distance','Owner_Type','manufacture_year','Age_of_car','engine_displacement','engine_power','Vroom_Audit_Rating','transmission','fuel_type']]"
   ]
  },
  {
   "cell_type": "code",
   "execution_count": 41,
   "id": "9d1bb0c6",
   "metadata": {
    "scrolled": true
   },
   "outputs": [
    {
     "data": {
      "text/plain": [
       "Id                       0\n",
       "Maker                    0\n",
       "model                    0\n",
       "Location                 0\n",
       "Distance               128\n",
       "Owner_Type               0\n",
       "manufacture_year         0\n",
       "Age_of_car               0\n",
       "engine_displacement      0\n",
       "engine_power           168\n",
       "Vroom_Audit_Rating       0\n",
       "transmission             0\n",
       "fuel_type                0\n",
       "dtype: int64"
      ]
     },
     "execution_count": 41,
     "metadata": {},
     "output_type": "execute_result"
    }
   ],
   "source": [
    "X_test.isna().sum()"
   ]
  },
  {
   "cell_type": "code",
   "execution_count": 81,
   "id": "f8370ef7",
   "metadata": {
    "scrolled": false
   },
   "outputs": [],
   "source": [
    "X_test['Distance'] = X_test['Distance'].fillna(X_test['Distance'].mode())"
   ]
  },
  {
   "cell_type": "code",
   "execution_count": 82,
   "id": "a077bdfa",
   "metadata": {
    "scrolled": true
   },
   "outputs": [],
   "source": [
    "X_test['engine_power'] = X_test['engine_power'].fillna(X_test['engine_power'].median())"
   ]
  },
  {
   "cell_type": "code",
   "execution_count": 83,
   "id": "d7416b42",
   "metadata": {},
   "outputs": [],
   "source": [
    "Id = test['Id']"
   ]
  },
  {
   "cell_type": "code",
   "execution_count": 84,
   "id": "c822903f",
   "metadata": {},
   "outputs": [],
   "source": [
    "y_test_pre = pd.DataFrame(model.predict(X_test),index = Id)"
   ]
  },
  {
   "cell_type": "code",
   "execution_count": 85,
   "id": "ab0d9c99",
   "metadata": {},
   "outputs": [],
   "source": [
    "y_test_pre.columns = ['Price']"
   ]
  },
  {
   "cell_type": "code",
   "execution_count": 51,
   "id": "61b8f4bd",
   "metadata": {
    "scrolled": true
   },
   "outputs": [],
   "source": [
    "y_test_pre.to_csv('Apekshaa.csv')"
   ]
  },
  {
   "cell_type": "code",
   "execution_count": null,
   "id": "67b84a4a",
   "metadata": {},
   "outputs": [],
   "source": []
  },
  {
   "cell_type": "code",
   "execution_count": null,
   "id": "b0d81114",
   "metadata": {},
   "outputs": [],
   "source": []
  }
 ],
 "metadata": {
  "kernelspec": {
   "display_name": "Python 3 (ipykernel)",
   "language": "python",
   "name": "python3"
  },
  "language_info": {
   "codemirror_mode": {
    "name": "ipython",
    "version": 3
   },
   "file_extension": ".py",
   "mimetype": "text/x-python",
   "name": "python",
   "nbconvert_exporter": "python",
   "pygments_lexer": "ipython3",
   "version": "3.11.1"
  }
 },
 "nbformat": 4,
 "nbformat_minor": 5
}
